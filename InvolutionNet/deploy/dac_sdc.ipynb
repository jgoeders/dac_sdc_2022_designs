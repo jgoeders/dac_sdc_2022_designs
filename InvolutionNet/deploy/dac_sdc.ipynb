{
 "cells": [
  {
   "cell_type": "code",
   "execution_count": 1,
   "metadata": {},
   "outputs": [
    {
     "data": {
      "application/javascript": [
       "\n",
       "try {\n",
       "require(['notebook/js/codecell'], function(codecell) {\n",
       "  codecell.CodeCell.options_default.highlight_modes[\n",
       "      'magic_text/x-csrc'] = {'reg':[/^%%microblaze/]};\n",
       "  Jupyter.notebook.events.one('kernel_ready.Kernel', function(){\n",
       "      Jupyter.notebook.get_cells().map(function(cell){\n",
       "          if (cell.cell_type == 'code'){ cell.auto_highlight(); } }) ;\n",
       "  });\n",
       "});\n",
       "} catch (e) {};\n"
      ]
     },
     "metadata": {},
     "output_type": "display_data"
    },
    {
     "data": {
      "application/javascript": [
       "\n",
       "try {\n",
       "require(['notebook/js/codecell'], function(codecell) {\n",
       "  codecell.CodeCell.options_default.highlight_modes[\n",
       "      'magic_text/x-csrc'] = {'reg':[/^%%pybind11/]};\n",
       "  Jupyter.notebook.events.one('kernel_ready.Kernel', function(){\n",
       "      Jupyter.notebook.get_cells().map(function(cell){\n",
       "          if (cell.cell_type == 'code'){ cell.auto_highlight(); } }) ;\n",
       "  });\n",
       "});\n",
       "} catch (e) {};\n"
      ]
     },
     "metadata": {},
     "output_type": "display_data"
    }
   ],
   "source": [
    "import sys\n",
    "import os\n",
    "\n",
    "sys.path.append(os.path.abspath(\"../common\"))\n",
    "\n",
    "import math\n",
    "import time\n",
    "import numpy as np\n",
    "import cv2\n",
    "import pynq\n",
    "import dac_sdc\n",
    "import ctypes\n",
    "from pynq import Clocks\n",
    "\n",
    "team_name = 'InvolutionNet'\n",
    "team = dac_sdc.Team(team_name)"
   ]
  },
  {
   "cell_type": "code",
   "execution_count": 2,
   "metadata": {
    "scrolled": true
   },
   "outputs": [],
   "source": [
    "overlay = pynq.Overlay(team.get_bitstream_path())\n",
    "cfuns = ctypes.cdll.LoadLibrary(\"./yolo.so\")\n",
    "dma = overlay.axi_dma_0\n",
    "nn_ctrl = overlay.ultra_net_0"
   ]
  },
  {
   "cell_type": "code",
   "execution_count": 3,
   "metadata": {
    "scrolled": true
   },
   "outputs": [],
   "source": [
    "BATCH_SIZE = 50\n",
    "IMAGE_RAW_ROW = 360\n",
    "IMAGE_RAW_COL = 640\n",
    "IMAGE_ROW = 160\n",
    "IMAGE_COL = 320\n",
    "GRID_ROw = 10\n",
    "GRID_COL = 20\n",
    "X_SCALE = IMAGE_RAW_COL / IMAGE_COL\n",
    "Y_SCALE = IMAGE_RAW_ROW / IMAGE_ROW\n",
    "\n",
    "\n",
    "in_buffer0 = pynq.allocate(shape=(BATCH_SIZE, IMAGE_RAW_ROW, IMAGE_RAW_COL, 3), dtype=np.uint8, cacheable = 1)\n",
    "in_buffer1 = pynq.allocate(shape=(BATCH_SIZE, IMAGE_RAW_ROW, IMAGE_RAW_COL, 3), dtype=np.uint8, cacheable = 1)\n",
    "in_buffers = [in_buffer0, in_buffer1]\n",
    "out_buffer0 = pynq.allocate(shape=(BATCH_SIZE, GRID_ROw, GRID_COL, 6, 6), dtype=np.int32, cacheable = 1)\n",
    "out_buffer1 = pynq.allocate(shape=(BATCH_SIZE, GRID_ROw, GRID_COL, 6, 6), dtype=np.int32, cacheable = 1)\n",
    "out_buffers = [out_buffer0, out_buffer1]\n",
    "\n",
    "which_buffer = 0\n",
    "first_batch = True\n",
    "net_cnt = 0\n",
    "last_batch_size = BATCH_SIZE\n",
    "\n",
    "def yolo(out_buffer, batch_n, result):\n",
    "    out_buffer_dataptr=out_buffer.ctypes.data_as(ctypes.c_char_p)\n",
    "    rst=np.empty( (batch_n,4),dtype=np.int32)\n",
    "    rst_dataptr=rst.ctypes.data_as(ctypes.c_char_p)\n",
    "    cfuns.yolo(out_buffer_dataptr,batch_n,rst_dataptr)\n",
    "    result.extend(rst.tolist())\n",
    "    \n",
    "        \n",
    "################################compute##################################\n",
    "def compute_stream(rgb_imgs):\n",
    "    rgblen = len(rgb_imgs)\n",
    "    image_paths = []\n",
    "    img_locations = list()\n",
    "    global first_batch\n",
    "    global which_buffer    \n",
    "    global net_cnt\n",
    "    global last_batch_size\n",
    "    global last_status\n",
    "    \n",
    "    while True:\n",
    "        if len(rgb_imgs) is 0:\n",
    "            break\n",
    "        bcount = 0\n",
    "        initflag = True\n",
    "        while True:\n",
    "            bstart = bcount*BATCH_SIZE\n",
    "            bcount += 1\n",
    "            bend = bcount*BATCH_SIZE\n",
    "            \n",
    "            if initflag == True:\n",
    "                initflag = False\n",
    "                which_buffer = 0\n",
    "                first_batch = True\n",
    "                net_cnt = 0\n",
    "                last_batch_size = BATCH_SIZE\n",
    "                \n",
    "            if first_batch == True:                             #copy image data to contiguous buffer\n",
    "                first_batch = False\n",
    "                which_buffer = 0\n",
    "                #bsize = Pload2buff(which_buffer,bstart,bend,rgblen)\n",
    "                lcount = 0\n",
    "                if bstart >= rgblen:\n",
    "                    lcount = 0\n",
    "                elif bend > rgblen:\n",
    "                    for (img_path, img) in rgb_imgs[bstart:]:\n",
    "                        in_buffers[which_buffer][lcount][:] = img\n",
    "                        lcount += 1\n",
    "                    for i in range(BATCH_SIZE - lcount):\n",
    "                        in_buffers[which_buffer][lcount+i][:] = in_buffers[which_buffer][0][:]\n",
    "                else:\n",
    "                    for (img_path, img) in rgb_imgs[bstart:bend]:\n",
    "                        in_buffers[which_buffer][lcount][:] = img\n",
    "                        lcount += 1\n",
    "                bsize = lcount\n",
    "                if bsize >0 and bsize < BATCH_SIZE:\n",
    "                    last_batch_size = bsize\n",
    "            else:\n",
    "                # count\n",
    "                net_cnt += 1\n",
    "                nn_ctrl.write(0x10, in_buffers[which_buffer].shape[0])\n",
    "                nn_ctrl.write(0x0, 1) # Deassert reset\n",
    "                dma.recvchannel.transfer(out_buffers[which_buffer])\n",
    "                dma.sendchannel.transfer(in_buffers[which_buffer])\n",
    "                \n",
    "                # switch buffer\n",
    "                if which_buffer == 0:\n",
    "                    which_buffer = 1\n",
    "                else:\n",
    "                    which_buffer = 0\n",
    "                    \n",
    "                #bsize = Pload2buff(which_buffer,bstart,bend,rgblen)\n",
    "                lcount = 0\n",
    "                if bstart >= rgblen:\n",
    "                    lcount = 0\n",
    "                elif bend > rgblen:\n",
    "                    for (img_path, img) in rgb_imgs[bstart:]:\n",
    "                        in_buffers[which_buffer][lcount][:] = img\n",
    "                        lcount += 1\n",
    "                    for i in range(BATCH_SIZE - lcount):\n",
    "                        in_buffers[which_buffer][lcount+i][:] = in_buffers[which_buffer][0][:]\n",
    "                else:\n",
    "                    for (img_path, img) in rgb_imgs[bstart:bend]:\n",
    "                        in_buffers[which_buffer][lcount][:] = img\n",
    "                        lcount += 1\n",
    "                bsize = lcount\n",
    "                if bsize >0 and bsize < BATCH_SIZE:\n",
    "                    last_batch_size = bsize\n",
    "                \n",
    "                if net_cnt > 1:\n",
    "                    yolo(out_buffers[which_buffer], BATCH_SIZE, img_locations)\n",
    "                    \n",
    "                dma.sendchannel.wait()\n",
    "                dma.recvchannel.wait()\n",
    "                \n",
    "                if bsize == 0:\n",
    "                    yolo(out_buffers[(which_buffer + 1) % 2], last_batch_size, img_locations)\n",
    "            \n",
    "            if bsize == 0:\n",
    "                break\n",
    "        break\n",
    "    \n",
    "    return img_locations"
   ]
  },
  {
   "cell_type": "code",
   "execution_count": 4,
   "metadata": {},
   "outputs": [
    {
     "name": "stdout",
     "output_type": "stream",
     "text": [
      "Batch 1 starting. 1000 images.\n",
      "Batch 1 done. Runtime = 2.8964085578918457 seconds. Energy = 5.893978444092415 J.\n",
      "Done all batches. Total runtime = 2.8964085578918457 seconds. Total energy = 5.893978444092415 J.\n",
      "Savings results to XML...\n",
      "XML results written successfully.\n"
     ]
    }
   ],
   "source": [
    "team.run(compute_stream, debug=True)\n",
    "\n",
    "del in_buffer0\n",
    "del in_buffer1\n",
    "del in_buffers\n",
    "del out_buffer0\n",
    "del out_buffer1\n",
    "del out_buffers"
   ]
  }
 ],
 "metadata": {
  "kernelspec": {
   "display_name": "Python 3",
   "language": "python",
   "name": "python3"
  },
  "language_info": {
   "codemirror_mode": {
    "name": "ipython",
    "version": 3
   },
   "file_extension": ".py",
   "mimetype": "text/x-python",
   "name": "python",
   "nbconvert_exporter": "python",
   "pygments_lexer": "ipython3",
   "version": "3.6.5"
  }
 },
 "nbformat": 4,
 "nbformat_minor": 2
}
